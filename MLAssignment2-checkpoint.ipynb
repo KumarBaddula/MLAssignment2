{
 "cells": [
  {
   "cell_type": "code",
   "execution_count": 23,
   "id": "f05827e3",
   "metadata": {},
   "outputs": [
    {
     "name": "stdout",
     "output_type": "stream",
     "text": [
      "Enter number of rows:5\n",
      "* \n",
      "* * \n",
      "* * * \n",
      "* * * * \n",
      "* * * * * \n",
      "* * * * \n",
      "* * * \n",
      "* * \n",
      "* \n"
     ]
    }
   ],
   "source": [
    "\"\"\"Question 1\"\"\"\n",
    "\"\"\"Use a python code to display the following star pattern using the for loop\"\"\"\n",
    "\n",
    "rows = int(input(\"Enter number of rows:\"))\n",
    "for i in range(1, rows+1):\n",
    "    for j in range(1, i + 1):\n",
    "        print(\"*\", end=' ')\n",
    "    print()\n",
    "\n",
    "for i in range(rows, 1, -1):\n",
    "    for j in range(1, i):\n",
    "        print(\"*\", end=' ')\n",
    "    print()\n",
    "\n"
   ]
  },
  {
   "cell_type": "code",
   "execution_count": 24,
   "id": "1c0a5020",
   "metadata": {},
   "outputs": [
    {
     "name": "stdout",
     "output_type": "stream",
     "text": [
      "[10, 30, 50, 70, 90]\n"
     ]
    }
   ],
   "source": [
    "\"\"\"Question 2\"\"\"\n",
    "\"\"\"Use looping to output the elements from a provided list present at odd indexes.\n",
    "my_list = [10, 20, 30, 40, 50, 60, 70, 80, 90, 100]\"\"\"\n",
    "\n",
    "import numpy as np\n",
    "\n",
    "my_list = [10, 20, 30, 40, 50, 60, 70, 80, 90, 100]\n",
    "\n",
    "print(my_list[0:len(my_list):2])"
   ]
  },
  {
   "cell_type": "code",
   "execution_count": 25,
   "id": "bfa435c8",
   "metadata": {},
   "outputs": [
    {
     "name": "stdout",
     "output_type": "stream",
     "text": [
      "[23, 'Python', 23.98]\n",
      "[<class 'int'>, <class 'str'>, <class 'float'>]\n"
     ]
    }
   ],
   "source": [
    "\"\"\"Question 3\"\"\"\n",
    "\"\"\"Write a code that appends the type of elements from a given list.\n",
    "Input\n",
    " x = [23, ‘Python’, 23.98]\n",
    " Expected output\n",
    " [23, 'Python', 23.98]\n",
    " [<class 'int'>, <class 'str'>, <class 'float'>]\"\"\"\n",
    "\n",
    "x = [23,'Python', 23.98]\n",
    "print(x)\n",
    "list_of_types=[]\n",
    "for ele in x:\n",
    "  list_of_types.append(type(ele))\n",
    "print(list_of_types)"
   ]
  },
  {
   "cell_type": "code",
   "execution_count": 26,
   "id": "a2b27e37",
   "metadata": {},
   "outputs": [
    {
     "name": "stdout",
     "output_type": "stream",
     "text": [
      "[1, 2, 3, 4, 5]\n"
     ]
    }
   ],
   "source": [
    "\"\"\"Question 4\"\"\"\n",
    "\"\"\"Write a function that takes a list and returns a new list with unique items of the first list.\n",
    "Sample List: [1,2,3,3,3,3,4,5]\n",
    "Unique List: [1, 2, 3, 4, 5] \"\"\"\n",
    "\n",
    "def unique_list(numbers):\n",
    "    unique = []\n",
    "    for item in numbers :\n",
    "        if item not in unique:\n",
    "            unique.append(item)\n",
    "    return unique\n",
    "\n",
    "print(unique_list([1,2,3,3,3,3,4,5]))"
   ]
  },
  {
   "cell_type": "code",
   "execution_count": 22,
   "id": "1a9c1361",
   "metadata": {},
   "outputs": [
    {
     "name": "stdout",
     "output_type": "stream",
     "text": [
      "No. of Upper-case characters : 3\n",
      "\n",
      "No. of Lower-case Characters : 12\n"
     ]
    }
   ],
   "source": [
    "\"\"\"Question 5\"\"\"\n",
    "\"\"\"Write a function that accepts a string and calculate the number of upper-case letters and lower-case letters. \n",
    "Input String: 'The quick Brow Fox'\n",
    "Expected Output:\n",
    "No. of Upper-case characters: 3\n",
    "No. of Lower-case Characters: 12 \"\"\"\n",
    "\n",
    "\n",
    "def up_low(s):      \n",
    "    u = sum(1 for i in s if i.isupper())\n",
    "    l = sum(1 for i in s if i.islower())\n",
    "    print( \"No. of Upper-case characters : %s\\n\\nNo. of Lower-case Characters : %s\" % (u,l))\n",
    "\n",
    "up_low(\"'The quick Brow Fox\")"
   ]
  },
  {
   "cell_type": "code",
   "execution_count": null,
   "id": "b7a2e6ba",
   "metadata": {},
   "outputs": [],
   "source": []
  }
 ],
 "metadata": {
  "kernelspec": {
   "display_name": "Python 3 (ipykernel)",
   "language": "python",
   "name": "python3"
  },
  "language_info": {
   "codemirror_mode": {
    "name": "ipython",
    "version": 3
   },
   "file_extension": ".py",
   "mimetype": "text/x-python",
   "name": "python",
   "nbconvert_exporter": "python",
   "pygments_lexer": "ipython3",
   "version": "3.9.13"
  }
 },
 "nbformat": 4,
 "nbformat_minor": 5
}
